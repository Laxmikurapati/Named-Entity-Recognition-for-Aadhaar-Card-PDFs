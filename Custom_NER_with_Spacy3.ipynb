{
  "cells": [
    {
      "cell_type": "code",
      "execution_count": 1,
      "metadata": {
        "colab": {
          "base_uri": "https://localhost:8080/"
        },
        "id": "iVSFiAKnbg3v",
        "outputId": "7a06044f-1514-436f-a9e8-93f84f0e2b05"
      },
      "outputs": [
        {
          "name": "stdout",
          "output_type": "stream",
          "text": [
            "Collecting pdf2image"
          ]
        },
        {
          "name": "stderr",
          "output_type": "stream",
          "text": [
            "\n",
            "[notice] A new release of pip is available: 23.1.2 -> 23.2.1\n",
            "[notice] To update, run: C:\\Python310\\python.exe -m pip install --upgrade pip\n"
          ]
        },
        {
          "name": "stdout",
          "output_type": "stream",
          "text": [
            "\n",
            "  Downloading pdf2image-1.16.3-py3-none-any.whl (11 kB)\n",
            "Requirement already satisfied: pillow in c:\\python310\\lib\\site-packages (from pdf2image) (9.2.0)\n",
            "Installing collected packages: pdf2image\n",
            "Successfully installed pdf2image-1.16.3\n"
          ]
        }
      ],
      "source": [
        "%pip install pdf2image"
      ]
    },
    {
      "cell_type": "code",
      "execution_count": 8,
      "metadata": {
        "colab": {
          "base_uri": "https://localhost:8080/"
        },
        "id": "sx_Bj9_Pbg1s",
        "outputId": "92e762c4-bb75-4032-b0fb-764a24d1db52"
      },
      "outputs": [
        {
          "name": "stdout",
          "output_type": "stream",
          "text": [
            "Defaulting to user installation because normal site-packages is not writeable\n",
            "Collecting pdfplumber\n",
            "  Using cached pdfplumber-0.10.2-py3-none-any.whl (47 kB)\n",
            "Collecting pypdfium2>=4.18.0\n",
            "  Using cached pypdfium2-4.18.0-py3-none-win_amd64.whl (2.7 MB)\n",
            "Collecting Pillow>=9.1\n",
            "  Downloading Pillow-10.0.0-cp39-cp39-win_amd64.whl (2.5 MB)\n",
            "Collecting pdfminer.six==20221105\n",
            "  Using cached pdfminer.six-20221105-py3-none-any.whl (5.6 MB)\n",
            "Collecting cryptography>=36.0.0\n",
            "  Using cached cryptography-41.0.3-cp37-abi3-win_amd64.whl (2.6 MB)\n",
            "Requirement already satisfied: charset-normalizer>=2.0.0 in c:\\users\\laxmi\\appdata\\roaming\\python\\python39\\site-packages (from pdfminer.six==20221105->pdfplumber) (2.0.4)\n",
            "Requirement already satisfied: cffi>=1.12 in c:\\users\\laxmi\\appdata\\roaming\\python\\python39\\site-packages (from cryptography>=36.0.0->pdfminer.six==20221105->pdfplumber) (1.15.0)\n",
            "Requirement already satisfied: pycparser in c:\\users\\laxmi\\appdata\\roaming\\python\\python39\\site-packages (from cffi>=1.12->cryptography>=36.0.0->pdfminer.six==20221105->pdfplumber) (2.21)\n",
            "Installing collected packages: cryptography, pypdfium2, Pillow, pdfminer.six, pdfplumber\n",
            "  Attempting uninstall: Pillow\n",
            "    Found existing installation: Pillow 8.4.0\n",
            "    Uninstalling Pillow-8.4.0:\n",
            "      Successfully uninstalled Pillow-8.4.0\n",
            "Note: you may need to restart the kernel to use updated packages.\n"
          ]
        },
        {
          "name": "stderr",
          "output_type": "stream",
          "text": [
            "ERROR: Could not install packages due to an OSError: [WinError 5] Access is denied: 'C:\\\\Users\\\\Laxmi\\\\AppData\\\\Roaming\\\\Python\\\\Python39\\\\site-packages\\\\~il\\\\_imaging.cp39-win_amd64.pyd'\n",
            "Check the permissions.\n",
            "\n",
            "WARNING: You are using pip version 21.1.1; however, version 23.2.1 is available.\n",
            "You should consider upgrading via the 'c:\\Program Files\\Python39\\python.exe -m pip install --upgrade pip' command.\n"
          ]
        }
      ],
      "source": [
        "%pip install pdfplumber"
      ]
    },
    {
      "cell_type": "code",
      "execution_count": 3,
      "metadata": {
        "id": "CSgrkOLccHYh"
      },
      "outputs": [
        {
          "name": "stdout",
          "output_type": "stream",
          "text": [
            "Note: you may need to restart the kernel to use updated packages.\n"
          ]
        },
        {
          "name": "stderr",
          "output_type": "stream",
          "text": [
            "ERROR: pip's dependency resolver does not currently take into account all the packages that are installed. This behaviour is the source of the following dependency conflicts.\n",
            "easyocr 1.6.2 requires PyYAML, which is not installed.\n",
            "easyocr 1.6.2 requires scikit-image, which is not installed.\n",
            "WARNING: You are using pip version 21.1.1; however, version 23.2.1 is available.\n",
            "You should consider upgrading via the 'c:\\Program Files\\Python39\\python.exe -m pip install --upgrade pip' command.\n"
          ]
        }
      ],
      "source": [
        "%pip install -U spacy -q"
      ]
    },
    {
      "cell_type": "code",
      "execution_count": 4,
      "metadata": {
        "colab": {
          "base_uri": "https://localhost:8080/"
        },
        "id": "nsd4Hn1kcJ6-",
        "outputId": "419fb2ae-fc75-4155-caa6-2c07110b2d35"
      },
      "outputs": [
        {
          "name": "stderr",
          "output_type": "stream",
          "text": [
            "UsageError: Line magic function `%python` not found (But cell magic `%%python` exists, did you mean that instead?).\n"
          ]
        }
      ],
      "source": [
        "%python -m spacy info"
      ]
    },
    {
      "cell_type": "code",
      "execution_count": 6,
      "metadata": {
        "colab": {
          "base_uri": "https://localhost:8080/"
        },
        "id": "Ad--zsjlf_xz",
        "outputId": "dc98510c-f784-4d91-ed2b-953d47501f2c"
      },
      "outputs": [
        {
          "name": "stderr",
          "output_type": "stream",
          "text": [
            "'apt-get' is not recognized as an internal or external command,\n",
            "operable program or batch file.\n"
          ]
        },
        {
          "name": "stderr",
          "output_type": "stream",
          "text": [
            "'apt-get' is not recognized as an internal or external command,\n",
            "operable program or batch file.\n"
          ]
        }
      ],
      "source": [
        "!apt-get install -y poppler-utils\n",
        "!apt-get install -y python-poppler-qt5"
      ]
    },
    {
      "cell_type": "code",
      "execution_count": 27,
      "metadata": {
        "id": "KyrNNHK4bgxu"
      },
      "outputs": [],
      "source": [
        "import os\n",
        "from pdf2image import convert_from_path\n",
        "import pytesseract\n",
        "import json\n"
      ]
    },
    {
      "cell_type": "code",
      "execution_count": 12,
      "metadata": {
        "id": "wmRrOkz1eGbi"
      },
      "outputs": [],
      "source": [
        "import spacy\n",
        "from spacy.tokens import DocBin\n",
        "from tqdm import tqdm\n",
        "\n",
        "nlp = spacy.blank(\"en\") # load a new spacy model\n",
        "db = DocBin() # create a DocBin object"
      ]
    },
    {
      "cell_type": "code",
      "execution_count": 13,
      "metadata": {
        "id": "X0vKIRZKbgs_"
      },
      "outputs": [],
      "source": [
        "# Function to convert PDF to images and save them in a folder\n",
        "def pdf_to_images(pdf_file_path, output_folder):\n",
        "    images = convert_from_path(pdf_file_path)\n",
        "\n",
        "    for i, image in enumerate(images):\n",
        "        image_path = os.path.join(output_folder, f\"page_{i + 1}.jpg\")\n",
        "        image.save(image_path, \"JPEG\")\n",
        "\n",
        "    return images"
      ]
    },
    {
      "cell_type": "code",
      "execution_count": 14,
      "metadata": {
        "id": "SrwWYUOqb_PM"
      },
      "outputs": [],
      "source": [
        "def extract_text_from_image(path_to_img):\n",
        "\n",
        "  try:\n",
        "    #now we'll get the text from image through tesserac\n",
        "    return pytesseract.image_to_string((path_to_img))\n",
        "  except:\n",
        "    return ' '"
      ]
    },
    {
      "cell_type": "code",
      "execution_count": 17,
      "metadata": {
        "id": "ypmHuPYBZ7C0"
      },
      "outputs": [],
      "source": [
        "f = open('annotations (1).json')\n",
        "TRAIN_DATA = json.load(f)"
      ]
    },
    {
      "cell_type": "code",
      "execution_count": 18,
      "metadata": {
        "colab": {
          "base_uri": "https://localhost:8080/"
        },
        "id": "009F0bjTpwyU",
        "outputId": "c93d4615-984c-4c06-d81e-8ec114f77c88"
      },
      "outputs": [
        {
          "data": {
            "text/plain": [
              "{'classes': ['NAME', 'ADDRESS', 'GENDER', 'NUMBER', 'DOB'],\n",
              " 'annotations': [['Laxmi Laxmikant Kurapati  Female  28-04-2003   1512,Daji peth Solapur   1233 3242 3233 \\r',\n",
              "   {'entities': [[0, 24, 'NAME'],\n",
              "     [26, 32, 'GENDER'],\n",
              "     [34, 44, 'DOB'],\n",
              "     [47, 69, 'ADDRESS'],\n",
              "     [72, 86, 'NUMBER']]}],\n",
              "  ['\\r', {'entities': []}],\n",
              "  ['Prem Bhimsa Jhadav Male 04-08-2002 1344 Nevi peth Solapur 3454 5433 2324\\r',\n",
              "   {'entities': [[0, 18, 'NAME'],\n",
              "     [19, 23, 'GENDER'],\n",
              "     [24, 34, 'DOB'],\n",
              "     [40, 57, 'ADDRESS'],\n",
              "     [58, 72, 'NUMBER']]}],\n",
              "  ['\\r', {'entities': []}],\n",
              "  ['Amita Laxmikant Kurapati Female 22-12-1995  1512, Daji peth Solapur 34323 3424 3554 \\r',\n",
              "   {'entities': [[0, 24, 'NAME'],\n",
              "     [25, 31, 'GENDER'],\n",
              "     [32, 42, 'DOB'],\n",
              "     [44, 67, 'ADDRESS'],\n",
              "     [68, 83, 'NUMBER']]}],\n",
              "  ['\\r', {'entities': []}],\n",
              "  ['Chaitan Laxmikant Kurapati Male 22-12-1995  1512, Daji peth Solapur 34323 3424 3554 \\r',\n",
              "   {'entities': [[0, 26, 'NAME'],\n",
              "     [27, 31, 'GENDER'],\n",
              "     [32, 42, 'DOB'],\n",
              "     [44, 67, 'ADDRESS'],\n",
              "     [68, 83, 'NUMBER']]}],\n",
              "  ['\\r', {'entities': []}],\n",
              "  ['Amita Laxmikant   Female 1512, Daji peth Solapur 34323 3424 3554 \\r',\n",
              "   {'entities': [[0, 15, 'NAME'],\n",
              "     [18, 24, 'GENDER'],\n",
              "     [25, 48, 'ADDRESS'],\n",
              "     [49, 64, 'NUMBER']]}],\n",
              "  ['\\r', {'entities': []}],\n",
              "  ['Laxmi Kurapati   Female 28-04-2003   1233 3242 3233 \\r',\n",
              "   {'entities': [[0, 14, 'NAME'],\n",
              "     [17, 23, 'GENDER'],\n",
              "     [24, 34, 'DOB'],\n",
              "     [37, 51, 'NUMBER']]}],\n",
              "  ['\\r', {'entities': []}],\n",
              "  ['28-04-2003   1512,Daji peth Solapur   1233 3242 3233 \\r',\n",
              "   {'entities': [[0, 10, 'DOB'], [13, 35, 'ADDRESS'], [38, 52, 'NUMBER']]}],\n",
              "  ['\\r', {'entities': []}],\n",
              "  ['Raghvendra Laxmikant Kurapati   Male 18-08-2005   1512,Daji peth Solapur  \\r',\n",
              "   {'entities': [[0, 29, 'NAME'],\n",
              "     [32, 36, 'GENDER'],\n",
              "     [37, 47, 'DOB'],\n",
              "     [50, 72, 'ADDRESS']]}],\n",
              "  ['\\r', {'entities': []}],\n",
              "  ['Laxmi Laxmikant Kurapati   28-04-2003   1512,Daji peth Solapur   1233 3242 3233 \\r',\n",
              "   {'entities': [[0, 24, 'NAME'],\n",
              "     [27, 37, 'DOB'],\n",
              "     [40, 62, 'ADDRESS'],\n",
              "     [65, 79, 'NUMBER']]}],\n",
              "  ['\\r', {'entities': []}],\n",
              "  ['Laxmi Laxmikant Kurapati   28-04-2003   1512,Daji peth Solapur   1233 3242 3233 \\r',\n",
              "   {'entities': [[0, 24, 'NAME'],\n",
              "     [27, 37, 'DOB'],\n",
              "     [40, 62, 'ADDRESS'],\n",
              "     [65, 79, 'NUMBER']]}],\n",
              "  ['\\r', {'entities': []}],\n",
              "  ['28-04  Daji peth Solapur   123242 3233 \\r',\n",
              "   {'entities': [[0, 5, 'DOB'], [7, 24, 'ADDRESS'], [27, 38, 'NUMBER']]}],\n",
              "  ['\\r', {'entities': []}],\n",
              "  ['\\r', {'entities': []}],\n",
              "  ['\\r', {'entities': []}],\n",
              "  ['\\r', {'entities': []}],\n",
              "  ['', {'entities': []}],\n",
              "  ['DOB : Male 1231 1231\\r',\n",
              "   {'entities': [[0, 5, 'DOB'], [6, 10, 'GENDER'], [11, 20, 'NUMBER']]}],\n",
              "  ['\\r', {'entities': []}],\n",
              "  ['| paf ris Leer pee.  Sriram Mamundi  nee ore / DOB: 11/04/1982 jaeor / MALE  8416 1590 3267 / a,o7) - 40 40a wef seem syajlampb\\r',\n",
              "   {'entities': [[21, 35, 'NAME'], [45, 62, 'DOB'], [77, 91, 'NUMBER']]}],\n",
              "  ['\\r', {'entities': []}],\n",
              "  ['Carer hep ts â€”<pehOLe Miesh Singhat Teas Oo - oO Se8 [4 bale 4444 3333 2222\\r',\n",
              "   {'entities': [[22, 35, 'NAME'], [61, 75, 'NUMBER']]}],\n",
              "  ['\\r', {'entities': []}],\n",
              "  ['aa / Name Aclarsch Kamar ay ante / DOB: .yoesi995 Tey / Male 55022401637 STI - ATHY eT waar\\r',\n",
              "   {'entities': [[5, 24, 'NAME'],\n",
              "     [35, 39, 'DOB'],\n",
              "     [56, 60, 'GENDER'],\n",
              "     [61, 72, 'NUMBER']]}],\n",
              "  ['\\r', {'entities': []}],\n",
              "  ['Md Noorul Huda Hussain DOB : 01/10/2009 Male 2B 9502 1517 6995 ART , ANT Wear\\r',\n",
              "   {'entities': [[0, 22, 'NAME'],\n",
              "     [23, 39, 'DOB'],\n",
              "     [40, 44, 'GENDER'],\n",
              "     [48, 62, 'NUMBER']]}],\n",
              "  ['\\r', {'entities': []}],\n",
              "  ['See Sener â€” - - air] fo ezathes hein Worlua! a JOS = FN 2N eT Hen | FEMALE ne |\\r',\n",
              "   {'entities': [[68, 74, 'GENDER']]}],\n",
              "  ['\\r', {'entities': []}],\n",
              "  ['Na aE\\r', {'entities': []}],\n",
              "  ['\\r', {'entities': []}],\n",
              "  ['Warm Rae waz\\r', {'entities': []}],\n",
              "  ['\\r', {'entities': []}],\n",
              "  ['Komal Vaay Sawant\\r', {'entities': [[0, 17, 'NAME']]}],\n",
              "  ['\\r', {'entities': []}],\n",
              "  ['HS ae figa mas |  Mother Neha Viay Sawant oe at ; FFA ANG) NOR 1711/1997 Pe bee FF i Fomaie 5704 4395 3647 TOR ~ STAR Arras ee\\r',\n",
              "   {'entities': [[25, 41, 'NAME'], [63, 72, 'DOB'], [92, 106, 'NUMBER']]}],\n",
              "  ['\\r', {'entities': []}],\n",
              "  ['\\r', {'entities': []}],\n",
              "  ['\\r', {'entities': []}],\n",
              "  [' \\r', {'entities': []}],\n",
              "  ['\\r', {'entities': []}],\n",
              "  ['    \\r', {'entities': []}],\n",
              "  ['', {'entities': []}]]}"
            ]
          },
          "execution_count": 18,
          "metadata": {},
          "output_type": "execute_result"
        }
      ],
      "source": [
        "TRAIN_DATA"
      ]
    },
    {
      "cell_type": "code",
      "execution_count": 19,
      "metadata": {
        "colab": {
          "base_uri": "https://localhost:8080/"
        },
        "id": "VRGQF9p2VKss",
        "outputId": "ce0b105a-6aab-4c55-92e1-f8e70e17d219"
      },
      "outputs": [
        {
          "name": "stderr",
          "output_type": "stream",
          "text": [
            "100%|██████████| 52/52 [00:00<00:00, 1270.73it/s]\n"
          ]
        }
      ],
      "source": [
        "for text, annot in tqdm(TRAIN_DATA['annotations']):\n",
        "    doc = nlp.make_doc(text)\n",
        "    ents = []\n",
        "    for start, end, label in annot[\"entities\"]:\n",
        "        span = doc.char_span(start, end, label=label, alignment_mode=\"contract\")\n",
        "        if span is None:\n",
        "            print(\"Skipping entity\")\n",
        "        else:\n",
        "            ents.append(span)\n",
        "    doc.ents = ents\n",
        "    db.add(doc)\n",
        "\n",
        "db.to_disk(\"./training_data.spacy\") # save the docbin object\n"
      ]
    },
    {
      "cell_type": "code",
      "execution_count": 20,
      "metadata": {
        "colab": {
          "base_uri": "https://localhost:8080/"
        },
        "id": "SECGYS_KVUHF",
        "outputId": "e7d4e80e-b691-4b18-81d2-6cf9d2dc3b26"
      },
      "outputs": [
        {
          "name": "stdout",
          "output_type": "stream",
          "text": [
            "\u001b[38;5;3m⚠ To generate a more effective transformer-based config (GPU-only),\n",
            "install the spacy-transformers package and re-run this command. The config\n",
            "generated now does not use transformers.\u001b[0m\n",
            "\u001b[38;5;4mℹ Generated config template specific for your use case\u001b[0m\n",
            "- Language: en\n",
            "- Pipeline: ner\n",
            "- Optimize for: efficiency\n",
            "- Hardware: CPU\n",
            "- Transformer: None\n",
            "\u001b[38;5;2m✔ Auto-filled config with all values\u001b[0m\n",
            "\u001b[38;5;2m✔ Saved config\u001b[0m\n",
            "config.cfg\n",
            "You can now add your data and train your pipeline:\n",
            "python -m spacy train config.cfg --paths.train ./train.spacy --paths.dev ./dev.spacy\n"
          ]
        }
      ],
      "source": [
        "! python -m spacy init config config.cfg --lang en --pipeline ner --optimize efficiency"
      ]
    },
    {
      "cell_type": "code",
      "execution_count": 21,
      "metadata": {
        "colab": {
          "base_uri": "https://localhost:8080/"
        },
        "id": "sT82H_hqWaGP",
        "outputId": "61f4475a-c3e2-4b5b-9e00-77487bec9eb3"
      },
      "outputs": [
        {
          "name": "stdout",
          "output_type": "stream",
          "text": [
            "\u001b[38;5;4mℹ Saving to output directory: .\u001b[0m"
          ]
        },
        {
          "name": "stderr",
          "output_type": "stream",
          "text": [
            "[2023-08-02 15:53:58,246] [INFO] Set up nlp object from config\n",
            "[2023-08-02 15:53:58,274] [INFO] Pipeline: ['tok2vec', 'ner']\n",
            "[2023-08-02 15:53:58,283] [INFO] Created vocabulary\n",
            "[2023-08-02 15:53:58,288] [INFO] Finished initializing nlp object\n",
            "[2023-08-02 15:53:58,747] [INFO] Initialized pipeline components: ['tok2vec', 'ner']\n"
          ]
        },
        {
          "name": "stdout",
          "output_type": "stream",
          "text": [
            "\n",
            "\u001b[38;5;4mℹ Using CPU\u001b[0m\n",
            "\u001b[1m\n",
            "=========================== Initializing pipeline ===========================\u001b[0m\n",
            "\u001b[38;5;2m✔ Initialized pipeline\u001b[0m\n",
            "\u001b[1m\n",
            "============================= Training pipeline =============================\u001b[0m\n",
            "\u001b[38;5;4mℹ Pipeline: ['tok2vec', 'ner']\u001b[0m\n",
            "\u001b[38;5;4mℹ Initial learn rate: 0.001\u001b[0m\n",
            "E    #       LOSS TOK2VEC  LOSS NER  ENTS_F  ENTS_P  ENTS_R  SCORE \n",
            "---  ------  ------------  --------  ------  ------  ------  ------\n",
            "  0       0          0.00     53.68    0.00    0.00    0.00    0.00\n",
            " 50     200         89.60   2437.87  100.00  100.00  100.00    1.00\n",
            "116     400          0.62      0.74  100.00  100.00  100.00    1.00\n",
            "189     600          0.00      0.00  100.00  100.00  100.00    1.00\n",
            "289     800          0.00      0.00  100.00  100.00  100.00    1.00\n",
            "389    1000          0.00      0.00  100.00  100.00  100.00    1.00\n",
            "523    1200          0.00      0.00  100.00  100.00  100.00    1.00\n",
            "723    1400          0.00      0.00  100.00  100.00  100.00    1.00\n",
            "923    1600          0.00      0.00  100.00  100.00  100.00    1.00\n",
            "1123    1800          0.00      0.00  100.00  100.00  100.00    1.00\n",
            "\u001b[38;5;2m✔ Saved pipeline to output directory\u001b[0m\n",
            "model-last\n"
          ]
        }
      ],
      "source": [
        "! python -m spacy train config.cfg --output ./ --paths.train ./training_data.spacy --paths.dev ./training_data.spacy"
      ]
    },
    {
      "cell_type": "code",
      "execution_count": 24,
      "metadata": {
        "id": "8zljPkppcy_w"
      },
      "outputs": [],
      "source": [
        "nlp_ner = spacy.load(\"model-best\")"
      ]
    },
    {
      "cell_type": "code",
      "execution_count": 25,
      "metadata": {
        "id": "avMMaGJ3e2o5"
      },
      "outputs": [],
      "source": [
        "\n",
        "def extract_named_entities(text):\n",
        "    # doc = nlp(text)\n",
        "    # entities = [(ent.text, ent.label_, ent.start_char, ent.end_char) for ent in doc.ents]\n",
        "    # return entities\n",
        "    ner_results = nlp_ner(text)\n",
        "    entities = [(ent.text, ent.label_, ent.start_char, ent.end_char) for ent in ner_results.ents]\n",
        "    print(entities)\n",
        "    return ner_results"
      ]
    },
    {
      "cell_type": "code",
      "execution_count": 28,
      "metadata": {
        "colab": {
          "base_uri": "https://localhost:8080/",
          "height": 1000
        },
        "id": "A3ibWx6HMHFn",
        "outputId": "a2aa94da-c246-4e7c-92e8-4cfc3ff28d3b"
      },
      "outputs": [
        {
          "ename": "UnidentifiedImageError",
          "evalue": "cannot identify image file <_io.BytesIO object at 0x000001E55A405D10>",
          "output_type": "error",
          "traceback": [
            "\u001b[1;31m---------------------------------------------------------------------------\u001b[0m",
            "\u001b[1;31mUnidentifiedImageError\u001b[0m                    Traceback (most recent call last)",
            "\u001b[1;32m~\\AppData\\Local\\Temp/ipykernel_7276/2098746636.py\u001b[0m in \u001b[0;36m<module>\u001b[1;34m\u001b[0m\n\u001b[0;32m      5\u001b[0m         \u001b[0mos\u001b[0m\u001b[1;33m.\u001b[0m\u001b[0mmakedirs\u001b[0m\u001b[1;33m(\u001b[0m\u001b[0moutput_folder\u001b[0m\u001b[1;33m)\u001b[0m\u001b[1;33m\u001b[0m\u001b[1;33m\u001b[0m\u001b[0m\n\u001b[0;32m      6\u001b[0m \u001b[1;33m\u001b[0m\u001b[0m\n\u001b[1;32m----> 7\u001b[1;33m \u001b[0mimages\u001b[0m \u001b[1;33m=\u001b[0m \u001b[0mpdf_to_images\u001b[0m\u001b[1;33m(\u001b[0m\u001b[0mpdf_file_path\u001b[0m\u001b[1;33m,\u001b[0m \u001b[0moutput_folder\u001b[0m\u001b[1;33m)\u001b[0m\u001b[1;33m\u001b[0m\u001b[1;33m\u001b[0m\u001b[0m\n\u001b[0m\u001b[0;32m      8\u001b[0m \u001b[1;33m\u001b[0m\u001b[0m\n\u001b[0;32m      9\u001b[0m \u001b[1;32mfor\u001b[0m \u001b[0mi\u001b[0m\u001b[1;33m,\u001b[0m \u001b[0mimage\u001b[0m \u001b[1;32min\u001b[0m \u001b[0menumerate\u001b[0m\u001b[1;33m(\u001b[0m\u001b[0mimages\u001b[0m\u001b[1;33m)\u001b[0m\u001b[1;33m:\u001b[0m\u001b[1;33m\u001b[0m\u001b[1;33m\u001b[0m\u001b[0m\n",
            "\u001b[1;32m~\\AppData\\Local\\Temp/ipykernel_7276/2645782485.py\u001b[0m in \u001b[0;36mpdf_to_images\u001b[1;34m(pdf_file_path, output_folder)\u001b[0m\n\u001b[0;32m      1\u001b[0m \u001b[1;31m# Function to convert PDF to images and save them in a folder\u001b[0m\u001b[1;33m\u001b[0m\u001b[1;33m\u001b[0m\u001b[1;33m\u001b[0m\u001b[0m\n\u001b[0;32m      2\u001b[0m \u001b[1;32mdef\u001b[0m \u001b[0mpdf_to_images\u001b[0m\u001b[1;33m(\u001b[0m\u001b[0mpdf_file_path\u001b[0m\u001b[1;33m,\u001b[0m \u001b[0moutput_folder\u001b[0m\u001b[1;33m)\u001b[0m\u001b[1;33m:\u001b[0m\u001b[1;33m\u001b[0m\u001b[1;33m\u001b[0m\u001b[0m\n\u001b[1;32m----> 3\u001b[1;33m     \u001b[0mimages\u001b[0m \u001b[1;33m=\u001b[0m \u001b[0mconvert_from_path\u001b[0m\u001b[1;33m(\u001b[0m\u001b[0mpdf_file_path\u001b[0m\u001b[1;33m)\u001b[0m\u001b[1;33m\u001b[0m\u001b[1;33m\u001b[0m\u001b[0m\n\u001b[0m\u001b[0;32m      4\u001b[0m \u001b[1;33m\u001b[0m\u001b[0m\n\u001b[0;32m      5\u001b[0m     \u001b[1;32mfor\u001b[0m \u001b[0mi\u001b[0m\u001b[1;33m,\u001b[0m \u001b[0mimage\u001b[0m \u001b[1;32min\u001b[0m \u001b[0menumerate\u001b[0m\u001b[1;33m(\u001b[0m\u001b[0mimages\u001b[0m\u001b[1;33m)\u001b[0m\u001b[1;33m:\u001b[0m\u001b[1;33m\u001b[0m\u001b[1;33m\u001b[0m\u001b[0m\n",
            "\u001b[1;32m~\\AppData\\Roaming\\Python\\Python39\\site-packages\\pdf2image\\pdf2image.py\u001b[0m in \u001b[0;36mconvert_from_path\u001b[1;34m(pdf_path, dpi, output_folder, first_page, last_page, fmt, jpegopt, thread_count, userpw, use_cropbox, strict, transparent, single_file, output_file, poppler_path, grayscale, size, paths_only, use_pdftocairo, timeout, hide_annotations)\u001b[0m\n\u001b[0;32m    220\u001b[0m             )\n\u001b[0;32m    221\u001b[0m         \u001b[1;32melse\u001b[0m\u001b[1;33m:\u001b[0m\u001b[1;33m\u001b[0m\u001b[1;33m\u001b[0m\u001b[0m\n\u001b[1;32m--> 222\u001b[1;33m             \u001b[0mimages\u001b[0m \u001b[1;33m+=\u001b[0m \u001b[0mparse_buffer_func\u001b[0m\u001b[1;33m(\u001b[0m\u001b[0mdata\u001b[0m\u001b[1;33m)\u001b[0m\u001b[1;33m\u001b[0m\u001b[1;33m\u001b[0m\u001b[0m\n\u001b[0m\u001b[0;32m    223\u001b[0m \u001b[1;33m\u001b[0m\u001b[0m\n\u001b[0;32m    224\u001b[0m     \u001b[1;32mif\u001b[0m \u001b[0mauto_temp_dir\u001b[0m\u001b[1;33m:\u001b[0m\u001b[1;33m\u001b[0m\u001b[1;33m\u001b[0m\u001b[0m\n",
            "\u001b[1;32m~\\AppData\\Roaming\\Python\\Python39\\site-packages\\pdf2image\\parsers.py\u001b[0m in \u001b[0;36mparse_buffer_to_ppm\u001b[1;34m(data)\u001b[0m\n\u001b[0;32m     19\u001b[0m         \u001b[0msize_x\u001b[0m\u001b[1;33m,\u001b[0m \u001b[0msize_y\u001b[0m \u001b[1;33m=\u001b[0m \u001b[0mtuple\u001b[0m\u001b[1;33m(\u001b[0m\u001b[0msize\u001b[0m\u001b[1;33m.\u001b[0m\u001b[0msplit\u001b[0m\u001b[1;33m(\u001b[0m\u001b[1;34mb\" \"\u001b[0m\u001b[1;33m)\u001b[0m\u001b[1;33m)\u001b[0m\u001b[1;33m\u001b[0m\u001b[1;33m\u001b[0m\u001b[0m\n\u001b[0;32m     20\u001b[0m         \u001b[0mfile_size\u001b[0m \u001b[1;33m=\u001b[0m \u001b[0mlen\u001b[0m\u001b[1;33m(\u001b[0m\u001b[0mcode\u001b[0m\u001b[1;33m)\u001b[0m \u001b[1;33m+\u001b[0m \u001b[0mlen\u001b[0m\u001b[1;33m(\u001b[0m\u001b[0msize\u001b[0m\u001b[1;33m)\u001b[0m \u001b[1;33m+\u001b[0m \u001b[0mlen\u001b[0m\u001b[1;33m(\u001b[0m\u001b[0mrgb\u001b[0m\u001b[1;33m)\u001b[0m \u001b[1;33m+\u001b[0m \u001b[1;36m3\u001b[0m \u001b[1;33m+\u001b[0m \u001b[0mint\u001b[0m\u001b[1;33m(\u001b[0m\u001b[0msize_x\u001b[0m\u001b[1;33m)\u001b[0m \u001b[1;33m*\u001b[0m \u001b[0mint\u001b[0m\u001b[1;33m(\u001b[0m\u001b[0msize_y\u001b[0m\u001b[1;33m)\u001b[0m \u001b[1;33m*\u001b[0m \u001b[1;36m3\u001b[0m\u001b[1;33m\u001b[0m\u001b[1;33m\u001b[0m\u001b[0m\n\u001b[1;32m---> 21\u001b[1;33m         \u001b[0mimages\u001b[0m\u001b[1;33m.\u001b[0m\u001b[0mappend\u001b[0m\u001b[1;33m(\u001b[0m\u001b[0mImage\u001b[0m\u001b[1;33m.\u001b[0m\u001b[0mopen\u001b[0m\u001b[1;33m(\u001b[0m\u001b[0mBytesIO\u001b[0m\u001b[1;33m(\u001b[0m\u001b[0mdata\u001b[0m\u001b[1;33m[\u001b[0m\u001b[0mindex\u001b[0m \u001b[1;33m:\u001b[0m \u001b[0mindex\u001b[0m \u001b[1;33m+\u001b[0m \u001b[0mfile_size\u001b[0m\u001b[1;33m]\u001b[0m\u001b[1;33m)\u001b[0m\u001b[1;33m)\u001b[0m\u001b[1;33m)\u001b[0m\u001b[1;33m\u001b[0m\u001b[1;33m\u001b[0m\u001b[0m\n\u001b[0m\u001b[0;32m     22\u001b[0m         \u001b[0mindex\u001b[0m \u001b[1;33m+=\u001b[0m \u001b[0mfile_size\u001b[0m\u001b[1;33m\u001b[0m\u001b[1;33m\u001b[0m\u001b[0m\n\u001b[0;32m     23\u001b[0m \u001b[1;33m\u001b[0m\u001b[0m\n",
            "\u001b[1;32m~\\AppData\\Roaming\\Python\\Python39\\site-packages\\PIL\\Image.py\u001b[0m in \u001b[0;36mopen\u001b[1;34m(fp, mode, formats)\u001b[0m\n\u001b[0;32m   3028\u001b[0m \u001b[1;33m\u001b[0m\u001b[0m\n\u001b[0;32m   3029\u001b[0m     \u001b[0mPillow\u001b[0m \u001b[0mimages\u001b[0m \u001b[0mcan\u001b[0m \u001b[0malso\u001b[0m \u001b[0mbe\u001b[0m \u001b[0mconverted\u001b[0m \u001b[0mto\u001b[0m \u001b[0marrays\u001b[0m\u001b[1;33m:\u001b[0m\u001b[1;33m:\u001b[0m\u001b[1;33m\u001b[0m\u001b[1;33m\u001b[0m\u001b[0m\n\u001b[1;32m-> 3030\u001b[1;33m \u001b[1;33m\u001b[0m\u001b[0m\n\u001b[0m\u001b[0;32m   3031\u001b[0m       \u001b[1;32mfrom\u001b[0m \u001b[0mPIL\u001b[0m \u001b[1;32mimport\u001b[0m \u001b[0mImage\u001b[0m\u001b[1;33m\u001b[0m\u001b[1;33m\u001b[0m\u001b[0m\n\u001b[0;32m   3032\u001b[0m       \u001b[1;32mimport\u001b[0m \u001b[0mnumpy\u001b[0m \u001b[1;32mas\u001b[0m \u001b[0mnp\u001b[0m\u001b[1;33m\u001b[0m\u001b[1;33m\u001b[0m\u001b[0m\n",
            "\u001b[1;31mUnidentifiedImageError\u001b[0m: cannot identify image file <_io.BytesIO object at 0x000001E55A405D10>"
          ]
        }
      ],
      "source": [
        "pdf_file_path = \"1.pdf\"  # Replace with the path of your PDF file\n",
        "output_folder = \"output\"\n",
        "\n",
        "if not os.path.exists(output_folder):\n",
        "        os.makedirs(output_folder)\n",
        "\n",
        "images = pdf_to_images(pdf_file_path, output_folder)\n",
        "\n",
        "for i, image in enumerate(images):\n",
        "        print(f\"Processing Page {i + 1}\")\n",
        "        # Perform OCR on the image to extract text\n",
        "        text = extract_text_from_image(image)\n",
        "\n",
        "        # Perform NER on the extracted text to identify named entities\n",
        "        entities = extract_named_entities(text)\n",
        "\n",
        "        spacy.displacy.render(entities, style=\"ent\", jupyter=True) # display in Jupyter"
      ]
    },
    {
      "cell_type": "code",
      "execution_count": 44,
      "metadata": {
        "id": "Ovs0RAREdM9y"
      },
      "outputs": [],
      "source": []
    }
  ],
  "metadata": {
    "colab": {
      "provenance": []
    },
    "kernelspec": {
      "display_name": "Python 3",
      "name": "python3"
    },
    "language_info": {
      "codemirror_mode": {
        "name": "ipython",
        "version": 3
      },
      "file_extension": ".py",
      "mimetype": "text/x-python",
      "name": "python",
      "nbconvert_exporter": "python",
      "pygments_lexer": "ipython3",
      "version": "3.9.5"
    }
  },
  "nbformat": 4,
  "nbformat_minor": 0
}
